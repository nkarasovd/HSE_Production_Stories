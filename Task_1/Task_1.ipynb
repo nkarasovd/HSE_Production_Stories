{
 "cells": [
  {
   "cell_type": "markdown",
   "id": "narrative-municipality",
   "metadata": {},
   "source": [
    "# Карасов Николай Дмитриевич"
   ]
  },
  {
   "cell_type": "code",
   "execution_count": 7,
   "id": "loose-pharmacy",
   "metadata": {},
   "outputs": [],
   "source": [
    "import numpy as np\n",
    "import pandas as pd\n",
    "from catboost import Pool, CatBoostClassifier\n",
    "from feature_selector import FeatureSelector\n",
    "from sklearn.linear_model import LogisticRegression\n",
    "from sklearn.metrics import roc_auc_score\n",
    "from sklearn.preprocessing import StandardScaler\n",
    "\n",
    "from utils import *"
   ]
  },
  {
   "cell_type": "markdown",
   "id": "partial-progressive",
   "metadata": {},
   "source": [
    "## Заметки по данным\n",
    "\n",
    "Столбцы с `x10` по `x42` состоят из списков длины `6`. Очень много списков вида `['nan', 'nan', 'nan', 'nan', 'nan', 'nan']`.\n",
    "\n",
    "Столбцы с `x8` и `x9` состоят из списков, в которых числа разделены пробелами и знаком переноса строки `\\n`.\n",
    "\n",
    "В столбце `x2` содержатся даты. Будем считать, что это дата подписания договора или что-то подобное. На основе этого столбца построим новый признак **стаж**.\n",
    "\n",
    "Столбцы `x1`, `x3`, `x4`, `x5`, `x6`, `x7`: очень похоже, что в них закодированы категориальные признаки.\n",
    "\n",
    "Кроме того, в некоторых столбцах очень много пропусков, такие столбцы мы удалим."
   ]
  },
  {
   "cell_type": "markdown",
   "id": "interesting-buffer",
   "metadata": {},
   "source": [
    "## План действий\n",
    "\n",
    "Ознакомимся с данными, преобрауем данные, протестируем модель на `train2`, обучив ее на `train1`, а затем обучив на `train1` и, валидируюясь на `train2`, предскажем вероятности для `test`."
   ]
  },
  {
   "cell_type": "markdown",
   "id": "suitable-creator",
   "metadata": {},
   "source": [
    "## Знакомство с данными"
   ]
  },
  {
   "cell_type": "code",
   "execution_count": 99,
   "id": "certified-domestic",
   "metadata": {},
   "outputs": [
    {
     "name": "stdout",
     "output_type": "stream",
     "text": [
      "(91946, 44) (93189, 44) (23386, 43)\n"
     ]
    }
   ],
   "source": [
    "train_1, train_2, test = get_data()\n",
    "print(train_1.shape, train_2.shape, test.shape)"
   ]
  },
  {
   "cell_type": "code",
   "execution_count": 100,
   "id": "secure-valuable",
   "metadata": {},
   "outputs": [
    {
     "data": {
      "text/html": [
       "<div>\n",
       "<style scoped>\n",
       "    .dataframe tbody tr th:only-of-type {\n",
       "        vertical-align: middle;\n",
       "    }\n",
       "\n",
       "    .dataframe tbody tr th {\n",
       "        vertical-align: top;\n",
       "    }\n",
       "\n",
       "    .dataframe thead th {\n",
       "        text-align: right;\n",
       "    }\n",
       "</style>\n",
       "<table border=\"1\" class=\"dataframe\">\n",
       "  <thead>\n",
       "    <tr style=\"text-align: right;\">\n",
       "      <th></th>\n",
       "      <th>id</th>\n",
       "      <th>y</th>\n",
       "      <th>x1</th>\n",
       "      <th>x2</th>\n",
       "      <th>x3</th>\n",
       "      <th>x4</th>\n",
       "      <th>x5</th>\n",
       "      <th>x6</th>\n",
       "      <th>x7</th>\n",
       "      <th>x8</th>\n",
       "      <th>...</th>\n",
       "      <th>x33</th>\n",
       "      <th>x34</th>\n",
       "      <th>x35</th>\n",
       "      <th>x36</th>\n",
       "      <th>x37</th>\n",
       "      <th>x38</th>\n",
       "      <th>x39</th>\n",
       "      <th>x40</th>\n",
       "      <th>x41</th>\n",
       "      <th>x42</th>\n",
       "    </tr>\n",
       "  </thead>\n",
       "  <tbody>\n",
       "    <tr>\n",
       "      <th>0</th>\n",
       "      <td>-9196902500682081904</td>\n",
       "      <td>0</td>\n",
       "      <td>-2201458060675810556</td>\n",
       "      <td>01.09.2008</td>\n",
       "      <td>6312572492787112517</td>\n",
       "      <td>182</td>\n",
       "      <td>-6.347413e+18</td>\n",
       "      <td>2066976859146697559</td>\n",
       "      <td>0</td>\n",
       "      <td>[4770.1499999999996 885.49000000000001 1956.36...</td>\n",
       "      <td>...</td>\n",
       "      <td>[nan, nan, nan, nan, nan, nan]</td>\n",
       "      <td>[3.0, 2.0, 1.0, nan, nan, 1.0]</td>\n",
       "      <td>[67.64, 67.64, 67.64, 67.64, 67.64, 67.64]</td>\n",
       "      <td>[224.79, 224.79, 224.79, 224.79, 224.79, 224.79]</td>\n",
       "      <td>[nan, nan, nan, nan, nan, nan]</td>\n",
       "      <td>[nan, nan, nan, nan, nan, nan]</td>\n",
       "      <td>[80.46, 80.46, 80.46, 80.46, 80.46, 80.46]</td>\n",
       "      <td>[nan, nan, nan, nan, nan, nan]</td>\n",
       "      <td>[nan, nan, nan, nan, nan, nan]</td>\n",
       "      <td>[nan, nan, nan, nan, nan, nan]</td>\n",
       "    </tr>\n",
       "    <tr>\n",
       "      <th>1</th>\n",
       "      <td>-9196902500682081900</td>\n",
       "      <td>0</td>\n",
       "      <td>-2201458060675810556</td>\n",
       "      <td>05.02.2013</td>\n",
       "      <td>4293238556669161936</td>\n",
       "      <td>182</td>\n",
       "      <td>-8.465179e+18</td>\n",
       "      <td>-8648529837587014226</td>\n",
       "      <td>0</td>\n",
       "      <td>[328.93000000000001 3.9700000000000002 996.149...</td>\n",
       "      <td>...</td>\n",
       "      <td>[nan, nan, nan, nan, nan, nan]</td>\n",
       "      <td>[4.0, nan, nan, 2.0, 3.0, 7.0]</td>\n",
       "      <td>[90.27, 90.27, 90.27, 90.27, 90.27, 90.27]</td>\n",
       "      <td>[249.94, 249.94, 249.94, 249.94, 155.64, 155.64]</td>\n",
       "      <td>[nan, nan, nan, nan, nan, nan]</td>\n",
       "      <td>[nan, nan, nan, nan, nan, nan]</td>\n",
       "      <td>[103.09, 103.09, 103.09, 103.09, 103.09, 103.09]</td>\n",
       "      <td>[nan, nan, nan, nan, nan, nan]</td>\n",
       "      <td>[nan, nan, nan, nan, nan, nan]</td>\n",
       "      <td>[nan, nan, nan, nan, nan, nan]</td>\n",
       "    </tr>\n",
       "    <tr>\n",
       "      <th>2</th>\n",
       "      <td>-9196902500682081899</td>\n",
       "      <td>0</td>\n",
       "      <td>-2201458060675810556</td>\n",
       "      <td>01.09.2008</td>\n",
       "      <td>6312572492787112517</td>\n",
       "      <td>175</td>\n",
       "      <td>5.417474e+18</td>\n",
       "      <td>-5480331477604673780</td>\n",
       "      <td>1</td>\n",
       "      <td>[0.28000000000000003 0.39000000000000001 387.1...</td>\n",
       "      <td>...</td>\n",
       "      <td>[nan, nan, nan, nan, nan, nan]</td>\n",
       "      <td>[1.0, nan, nan, nan, nan, 2.0]</td>\n",
       "      <td>[67.64, 67.64, 67.64, 67.64, 67.64, 67.64]</td>\n",
       "      <td>[196.61, 224.79, 197.55, 224.79, 224.79, 224.79]</td>\n",
       "      <td>[nan, nan, nan, nan, nan, nan]</td>\n",
       "      <td>[nan, nan, nan, nan, nan, nan]</td>\n",
       "      <td>[80.46, 80.46, 80.46, 80.46, 80.46, 80.46]</td>\n",
       "      <td>[nan, nan, nan, nan, nan, nan]</td>\n",
       "      <td>[nan, nan, nan, nan, nan, nan]</td>\n",
       "      <td>[nan, nan, nan, nan, nan, nan]</td>\n",
       "    </tr>\n",
       "  </tbody>\n",
       "</table>\n",
       "<p>3 rows × 44 columns</p>\n",
       "</div>"
      ],
      "text/plain": [
       "                    id  y                   x1          x2  \\\n",
       "0 -9196902500682081904  0 -2201458060675810556  01.09.2008   \n",
       "1 -9196902500682081900  0 -2201458060675810556  05.02.2013   \n",
       "2 -9196902500682081899  0 -2201458060675810556  01.09.2008   \n",
       "\n",
       "                    x3   x4            x5                   x6  x7  \\\n",
       "0  6312572492787112517  182 -6.347413e+18  2066976859146697559   0   \n",
       "1  4293238556669161936  182 -8.465179e+18 -8648529837587014226   0   \n",
       "2  6312572492787112517  175  5.417474e+18 -5480331477604673780   1   \n",
       "\n",
       "                                                  x8  ...  \\\n",
       "0  [4770.1499999999996 885.49000000000001 1956.36...  ...   \n",
       "1  [328.93000000000001 3.9700000000000002 996.149...  ...   \n",
       "2  [0.28000000000000003 0.39000000000000001 387.1...  ...   \n",
       "\n",
       "                              x33                             x34  \\\n",
       "0  [nan, nan, nan, nan, nan, nan]  [3.0, 2.0, 1.0, nan, nan, 1.0]   \n",
       "1  [nan, nan, nan, nan, nan, nan]  [4.0, nan, nan, 2.0, 3.0, 7.0]   \n",
       "2  [nan, nan, nan, nan, nan, nan]  [1.0, nan, nan, nan, nan, 2.0]   \n",
       "\n",
       "                                          x35  \\\n",
       "0  [67.64, 67.64, 67.64, 67.64, 67.64, 67.64]   \n",
       "1  [90.27, 90.27, 90.27, 90.27, 90.27, 90.27]   \n",
       "2  [67.64, 67.64, 67.64, 67.64, 67.64, 67.64]   \n",
       "\n",
       "                                                x36  \\\n",
       "0  [224.79, 224.79, 224.79, 224.79, 224.79, 224.79]   \n",
       "1  [249.94, 249.94, 249.94, 249.94, 155.64, 155.64]   \n",
       "2  [196.61, 224.79, 197.55, 224.79, 224.79, 224.79]   \n",
       "\n",
       "                              x37                             x38  \\\n",
       "0  [nan, nan, nan, nan, nan, nan]  [nan, nan, nan, nan, nan, nan]   \n",
       "1  [nan, nan, nan, nan, nan, nan]  [nan, nan, nan, nan, nan, nan]   \n",
       "2  [nan, nan, nan, nan, nan, nan]  [nan, nan, nan, nan, nan, nan]   \n",
       "\n",
       "                                                x39  \\\n",
       "0        [80.46, 80.46, 80.46, 80.46, 80.46, 80.46]   \n",
       "1  [103.09, 103.09, 103.09, 103.09, 103.09, 103.09]   \n",
       "2        [80.46, 80.46, 80.46, 80.46, 80.46, 80.46]   \n",
       "\n",
       "                              x40                             x41  \\\n",
       "0  [nan, nan, nan, nan, nan, nan]  [nan, nan, nan, nan, nan, nan]   \n",
       "1  [nan, nan, nan, nan, nan, nan]  [nan, nan, nan, nan, nan, nan]   \n",
       "2  [nan, nan, nan, nan, nan, nan]  [nan, nan, nan, nan, nan, nan]   \n",
       "\n",
       "                              x42  \n",
       "0  [nan, nan, nan, nan, nan, nan]  \n",
       "1  [nan, nan, nan, nan, nan, nan]  \n",
       "2  [nan, nan, nan, nan, nan, nan]  \n",
       "\n",
       "[3 rows x 44 columns]"
      ]
     },
     "execution_count": 100,
     "metadata": {},
     "output_type": "execute_result"
    }
   ],
   "source": [
    "train_1.head(3)"
   ]
  },
  {
   "cell_type": "markdown",
   "id": "controversial-listening",
   "metadata": {},
   "source": [
    "Проверим, что все `id` уникальны."
   ]
  },
  {
   "cell_type": "code",
   "execution_count": 101,
   "id": "native-emission",
   "metadata": {},
   "outputs": [
    {
     "name": "stdout",
     "output_type": "stream",
     "text": [
      "Train_1\n",
      "\tВсе id уникальны: True\n",
      "Train_2\n",
      "\tВсе id уникальны: True\n",
      "Test\n",
      "\tВсе id уникальны: True\n"
     ]
    }
   ],
   "source": [
    "check_unique(train_1, train_2, test)"
   ]
  },
  {
   "cell_type": "markdown",
   "id": "cloudy-active",
   "metadata": {},
   "source": [
    "В данных имеется очень сильный дисбаланс классов."
   ]
  },
  {
   "cell_type": "code",
   "execution_count": 102,
   "id": "varying-favor",
   "metadata": {},
   "outputs": [
    {
     "data": {
      "text/plain": [
       "(0    0.974822\n",
       " 1    0.025178\n",
       " Name: y, dtype: float64,\n",
       " 0    0.975813\n",
       " 1    0.024187\n",
       " Name: y, dtype: float64)"
      ]
     },
     "execution_count": 102,
     "metadata": {},
     "output_type": "execute_result"
    }
   ],
   "source": [
    "train_1.y.value_counts() / train_1.shape[0], train_2.y.value_counts() / train_2.shape[0]"
   ]
  },
  {
   "cell_type": "markdown",
   "id": "interstate-stuart",
   "metadata": {},
   "source": [
    "Столбцы с `x10` по `x42` содержат в себе очень много значений `nan`. Преобразуем их так, чтобы было удобнее с ними работать.\n",
    "\n",
    "- `[nan, nan, nan, nan, nan, nan,] -> pd.NA`\n",
    "\n",
    "- `[nan, 1, nan, nan, 3, nan,] -> [None, 1, None, None, 3, None]`\n",
    "\n",
    "Подобным образом преобразуем значения в `x8` и `x9`."
   ]
  },
  {
   "cell_type": "code",
   "execution_count": 103,
   "id": "generous-valuable",
   "metadata": {},
   "outputs": [],
   "source": [
    "transform_columns_10_42(train_1)\n",
    "transform_columns_10_42(train_2)"
   ]
  },
  {
   "cell_type": "code",
   "execution_count": 104,
   "id": "hidden-royal",
   "metadata": {},
   "outputs": [],
   "source": [
    "# '[4770.15 885.49 1956.37\\n 36936.04 3478.56 2374.61 nan\\n ...]'\n",
    "# -> ([4770.15, 885.49, 1956.37], [36936.04, 3478.56, 2374.61, None], ...)\n",
    "transform_columns_8_9(train_1)\n",
    "transform_columns_8_9(train_2)"
   ]
  },
  {
   "cell_type": "code",
   "execution_count": 105,
   "id": "bright-destiny",
   "metadata": {},
   "outputs": [
    {
     "data": {
      "text/html": [
       "<div>\n",
       "<style scoped>\n",
       "    .dataframe tbody tr th:only-of-type {\n",
       "        vertical-align: middle;\n",
       "    }\n",
       "\n",
       "    .dataframe tbody tr th {\n",
       "        vertical-align: top;\n",
       "    }\n",
       "\n",
       "    .dataframe thead th {\n",
       "        text-align: right;\n",
       "    }\n",
       "</style>\n",
       "<table border=\"1\" class=\"dataframe\">\n",
       "  <thead>\n",
       "    <tr style=\"text-align: right;\">\n",
       "      <th></th>\n",
       "      <th>id</th>\n",
       "      <th>y</th>\n",
       "      <th>x1</th>\n",
       "      <th>x2</th>\n",
       "      <th>x3</th>\n",
       "      <th>x4</th>\n",
       "      <th>x5</th>\n",
       "      <th>x6</th>\n",
       "      <th>x7</th>\n",
       "      <th>x8</th>\n",
       "      <th>...</th>\n",
       "      <th>x33</th>\n",
       "      <th>x34</th>\n",
       "      <th>x35</th>\n",
       "      <th>x36</th>\n",
       "      <th>x37</th>\n",
       "      <th>x38</th>\n",
       "      <th>x39</th>\n",
       "      <th>x40</th>\n",
       "      <th>x41</th>\n",
       "      <th>x42</th>\n",
       "    </tr>\n",
       "  </thead>\n",
       "  <tbody>\n",
       "    <tr>\n",
       "      <th>0</th>\n",
       "      <td>-9196902500682081904</td>\n",
       "      <td>0</td>\n",
       "      <td>-2201458060675810556</td>\n",
       "      <td>01.09.2008</td>\n",
       "      <td>6312572492787112517</td>\n",
       "      <td>182</td>\n",
       "      <td>-6.347413e+18</td>\n",
       "      <td>2066976859146697559</td>\n",
       "      <td>0</td>\n",
       "      <td>[4770.15, 885.49, 1956.37, 36936.04, 3478.56, ...</td>\n",
       "      <td>...</td>\n",
       "      <td>&lt;NA&gt;</td>\n",
       "      <td>[3.0, 2.0, 1.0, None, None, 1.0]</td>\n",
       "      <td>[67.64, 67.64, 67.64, 67.64, 67.64, 67.64]</td>\n",
       "      <td>[224.79, 224.79, 224.79, 224.79, 224.79, 224.79]</td>\n",
       "      <td>&lt;NA&gt;</td>\n",
       "      <td>&lt;NA&gt;</td>\n",
       "      <td>[80.46, 80.46, 80.46, 80.46, 80.46, 80.46]</td>\n",
       "      <td>&lt;NA&gt;</td>\n",
       "      <td>&lt;NA&gt;</td>\n",
       "      <td>&lt;NA&gt;</td>\n",
       "    </tr>\n",
       "    <tr>\n",
       "      <th>1</th>\n",
       "      <td>-9196902500682081900</td>\n",
       "      <td>0</td>\n",
       "      <td>-2201458060675810556</td>\n",
       "      <td>05.02.2013</td>\n",
       "      <td>4293238556669161936</td>\n",
       "      <td>182</td>\n",
       "      <td>-8.465179e+18</td>\n",
       "      <td>-8648529837587014226</td>\n",
       "      <td>0</td>\n",
       "      <td>[328.93, 3.97, 996.15, 774.45, 480.49, 692.47,...</td>\n",
       "      <td>...</td>\n",
       "      <td>&lt;NA&gt;</td>\n",
       "      <td>[4.0, None, None, 2.0, 3.0, 7.0]</td>\n",
       "      <td>[90.27, 90.27, 90.27, 90.27, 90.27, 90.27]</td>\n",
       "      <td>[249.94, 249.94, 249.94, 249.94, 155.64, 155.64]</td>\n",
       "      <td>&lt;NA&gt;</td>\n",
       "      <td>&lt;NA&gt;</td>\n",
       "      <td>[103.09, 103.09, 103.09, 103.09, 103.09, 103.09]</td>\n",
       "      <td>&lt;NA&gt;</td>\n",
       "      <td>&lt;NA&gt;</td>\n",
       "      <td>&lt;NA&gt;</td>\n",
       "    </tr>\n",
       "    <tr>\n",
       "      <th>2</th>\n",
       "      <td>-9196902500682081899</td>\n",
       "      <td>0</td>\n",
       "      <td>-2201458060675810556</td>\n",
       "      <td>01.09.2008</td>\n",
       "      <td>6312572492787112517</td>\n",
       "      <td>175</td>\n",
       "      <td>5.417474e+18</td>\n",
       "      <td>-5480331477604673780</td>\n",
       "      <td>1</td>\n",
       "      <td>[0.28, 0.39, 387.13, 449.77, 199.35, 1285.98, ...</td>\n",
       "      <td>...</td>\n",
       "      <td>&lt;NA&gt;</td>\n",
       "      <td>[1.0, None, None, None, None, 2.0]</td>\n",
       "      <td>[67.64, 67.64, 67.64, 67.64, 67.64, 67.64]</td>\n",
       "      <td>[196.61, 224.79, 197.55, 224.79, 224.79, 224.79]</td>\n",
       "      <td>&lt;NA&gt;</td>\n",
       "      <td>&lt;NA&gt;</td>\n",
       "      <td>[80.46, 80.46, 80.46, 80.46, 80.46, 80.46]</td>\n",
       "      <td>&lt;NA&gt;</td>\n",
       "      <td>&lt;NA&gt;</td>\n",
       "      <td>&lt;NA&gt;</td>\n",
       "    </tr>\n",
       "  </tbody>\n",
       "</table>\n",
       "<p>3 rows × 44 columns</p>\n",
       "</div>"
      ],
      "text/plain": [
       "                    id  y                   x1          x2  \\\n",
       "0 -9196902500682081904  0 -2201458060675810556  01.09.2008   \n",
       "1 -9196902500682081900  0 -2201458060675810556  05.02.2013   \n",
       "2 -9196902500682081899  0 -2201458060675810556  01.09.2008   \n",
       "\n",
       "                    x3   x4            x5                   x6  x7  \\\n",
       "0  6312572492787112517  182 -6.347413e+18  2066976859146697559   0   \n",
       "1  4293238556669161936  182 -8.465179e+18 -8648529837587014226   0   \n",
       "2  6312572492787112517  175  5.417474e+18 -5480331477604673780   1   \n",
       "\n",
       "                                                  x8  ...   x33  \\\n",
       "0  [4770.15, 885.49, 1956.37, 36936.04, 3478.56, ...  ...  <NA>   \n",
       "1  [328.93, 3.97, 996.15, 774.45, 480.49, 692.47,...  ...  <NA>   \n",
       "2  [0.28, 0.39, 387.13, 449.77, 199.35, 1285.98, ...  ...  <NA>   \n",
       "\n",
       "                                  x34  \\\n",
       "0    [3.0, 2.0, 1.0, None, None, 1.0]   \n",
       "1    [4.0, None, None, 2.0, 3.0, 7.0]   \n",
       "2  [1.0, None, None, None, None, 2.0]   \n",
       "\n",
       "                                          x35  \\\n",
       "0  [67.64, 67.64, 67.64, 67.64, 67.64, 67.64]   \n",
       "1  [90.27, 90.27, 90.27, 90.27, 90.27, 90.27]   \n",
       "2  [67.64, 67.64, 67.64, 67.64, 67.64, 67.64]   \n",
       "\n",
       "                                                x36   x37   x38  \\\n",
       "0  [224.79, 224.79, 224.79, 224.79, 224.79, 224.79]  <NA>  <NA>   \n",
       "1  [249.94, 249.94, 249.94, 249.94, 155.64, 155.64]  <NA>  <NA>   \n",
       "2  [196.61, 224.79, 197.55, 224.79, 224.79, 224.79]  <NA>  <NA>   \n",
       "\n",
       "                                                x39   x40   x41   x42  \n",
       "0        [80.46, 80.46, 80.46, 80.46, 80.46, 80.46]  <NA>  <NA>  <NA>  \n",
       "1  [103.09, 103.09, 103.09, 103.09, 103.09, 103.09]  <NA>  <NA>  <NA>  \n",
       "2        [80.46, 80.46, 80.46, 80.46, 80.46, 80.46]  <NA>  <NA>  <NA>  \n",
       "\n",
       "[3 rows x 44 columns]"
      ]
     },
     "execution_count": 105,
     "metadata": {},
     "output_type": "execute_result"
    }
   ],
   "source": [
    "train_1.head(3)"
   ]
  },
  {
   "cell_type": "markdown",
   "id": "concerned-pursuit",
   "metadata": {},
   "source": [
    "Преобразуем даты столбца `x2` в стаж."
   ]
  },
  {
   "cell_type": "code",
   "execution_count": 106,
   "id": "original-jurisdiction",
   "metadata": {},
   "outputs": [
    {
     "name": "stdout",
     "output_type": "stream",
     "text": [
      "Мы удалили 38 строк\n",
      "Минимальный год: 2001, максимальный год: 3201\n",
      "Отсечем года, которые меньше 1990, больше 2020\n",
      "Минимальная и максимальная даты: 01.01.2001, 31.12.2016\n"
     ]
    }
   ],
   "source": [
    "train_1 = transform_date(train_1)"
   ]
  },
  {
   "cell_type": "code",
   "execution_count": 107,
   "id": "convinced-sequence",
   "metadata": {},
   "outputs": [],
   "source": [
    "train_1.x2 = pd.to_datetime(train_1.x2)\n",
    "date_time = train_1.x2.mode()[0].strftime(\"%m.%d.%Y\")\n",
    "\n",
    "random_date = pd.to_datetime('2018-01-01')\n",
    "train_1.x2 = train_1.x2.apply(lambda x: (random_date - x).days)"
   ]
  },
  {
   "cell_type": "code",
   "execution_count": 108,
   "id": "lovely-tyler",
   "metadata": {},
   "outputs": [],
   "source": [
    "train_2 = transform_date_test(train_2, date_time, random_date)"
   ]
  },
  {
   "cell_type": "code",
   "execution_count": 109,
   "id": "protecting-floor",
   "metadata": {},
   "outputs": [
    {
     "data": {
      "text/html": [
       "<div>\n",
       "<style scoped>\n",
       "    .dataframe tbody tr th:only-of-type {\n",
       "        vertical-align: middle;\n",
       "    }\n",
       "\n",
       "    .dataframe tbody tr th {\n",
       "        vertical-align: top;\n",
       "    }\n",
       "\n",
       "    .dataframe thead th {\n",
       "        text-align: right;\n",
       "    }\n",
       "</style>\n",
       "<table border=\"1\" class=\"dataframe\">\n",
       "  <thead>\n",
       "    <tr style=\"text-align: right;\">\n",
       "      <th></th>\n",
       "      <th>id</th>\n",
       "      <th>y</th>\n",
       "      <th>x1</th>\n",
       "      <th>x2</th>\n",
       "      <th>x3</th>\n",
       "      <th>x4</th>\n",
       "      <th>x5</th>\n",
       "      <th>x6</th>\n",
       "      <th>x7</th>\n",
       "    </tr>\n",
       "  </thead>\n",
       "  <tbody>\n",
       "    <tr>\n",
       "      <th>count</th>\n",
       "      <td>9.190700e+04</td>\n",
       "      <td>91907.000000</td>\n",
       "      <td>9.190700e+04</td>\n",
       "      <td>91907.000000</td>\n",
       "      <td>9.190700e+04</td>\n",
       "      <td>91907.000000</td>\n",
       "      <td>7.874900e+04</td>\n",
       "      <td>9.190700e+04</td>\n",
       "      <td>91907.000000</td>\n",
       "    </tr>\n",
       "    <tr>\n",
       "      <th>mean</th>\n",
       "      <td>4.928208e+17</td>\n",
       "      <td>0.024906</td>\n",
       "      <td>-2.447493e+18</td>\n",
       "      <td>1815.825878</td>\n",
       "      <td>6.273064e+18</td>\n",
       "      <td>161.132601</td>\n",
       "      <td>-1.119024e+18</td>\n",
       "      <td>-1.341517e+18</td>\n",
       "      <td>1.260851</td>\n",
       "    </tr>\n",
       "    <tr>\n",
       "      <th>std</th>\n",
       "      <td>5.286733e+18</td>\n",
       "      <td>0.155838</td>\n",
       "      <td>1.681117e+18</td>\n",
       "      <td>885.977612</td>\n",
       "      <td>5.635636e+17</td>\n",
       "      <td>40.811480</td>\n",
       "      <td>6.406306e+18</td>\n",
       "      <td>5.355868e+18</td>\n",
       "      <td>1.732310</td>\n",
       "    </tr>\n",
       "    <tr>\n",
       "      <th>min</th>\n",
       "      <td>-9.196903e+18</td>\n",
       "      <td>0.000000</td>\n",
       "      <td>-8.986902e+18</td>\n",
       "      <td>30.000000</td>\n",
       "      <td>-6.781590e+18</td>\n",
       "      <td>0.000000</td>\n",
       "      <td>-8.552464e+18</td>\n",
       "      <td>-9.204708e+18</td>\n",
       "      <td>0.000000</td>\n",
       "    </tr>\n",
       "    <tr>\n",
       "      <th>25%</th>\n",
       "      <td>-4.124670e+18</td>\n",
       "      <td>0.000000</td>\n",
       "      <td>-2.754919e+18</td>\n",
       "      <td>1109.000000</td>\n",
       "      <td>6.312572e+18</td>\n",
       "      <td>163.000000</td>\n",
       "      <td>-6.347413e+18</td>\n",
       "      <td>-6.335165e+18</td>\n",
       "      <td>0.000000</td>\n",
       "    </tr>\n",
       "    <tr>\n",
       "      <th>50%</th>\n",
       "      <td>8.753468e+17</td>\n",
       "      <td>0.000000</td>\n",
       "      <td>-2.201458e+18</td>\n",
       "      <td>1687.000000</td>\n",
       "      <td>6.312572e+18</td>\n",
       "      <td>181.000000</td>\n",
       "      <td>-5.150561e+18</td>\n",
       "      <td>-2.297459e+18</td>\n",
       "      <td>1.000000</td>\n",
       "    </tr>\n",
       "    <tr>\n",
       "      <th>75%</th>\n",
       "      <td>5.044115e+18</td>\n",
       "      <td>0.000000</td>\n",
       "      <td>-2.201458e+18</td>\n",
       "      <td>2412.000000</td>\n",
       "      <td>6.312572e+18</td>\n",
       "      <td>182.000000</td>\n",
       "      <td>6.439227e+18</td>\n",
       "      <td>2.830195e+18</td>\n",
       "      <td>2.000000</td>\n",
       "    </tr>\n",
       "    <tr>\n",
       "      <th>max</th>\n",
       "      <td>9.162041e+18</td>\n",
       "      <td>1.000000</td>\n",
       "      <td>7.609240e+18</td>\n",
       "      <td>6209.000000</td>\n",
       "      <td>8.072835e+18</td>\n",
       "      <td>182.000000</td>\n",
       "      <td>8.878400e+18</td>\n",
       "      <td>9.202926e+18</td>\n",
       "      <td>15.000000</td>\n",
       "    </tr>\n",
       "  </tbody>\n",
       "</table>\n",
       "</div>"
      ],
      "text/plain": [
       "                 id             y            x1            x2            x3  \\\n",
       "count  9.190700e+04  91907.000000  9.190700e+04  91907.000000  9.190700e+04   \n",
       "mean   4.928208e+17      0.024906 -2.447493e+18   1815.825878  6.273064e+18   \n",
       "std    5.286733e+18      0.155838  1.681117e+18    885.977612  5.635636e+17   \n",
       "min   -9.196903e+18      0.000000 -8.986902e+18     30.000000 -6.781590e+18   \n",
       "25%   -4.124670e+18      0.000000 -2.754919e+18   1109.000000  6.312572e+18   \n",
       "50%    8.753468e+17      0.000000 -2.201458e+18   1687.000000  6.312572e+18   \n",
       "75%    5.044115e+18      0.000000 -2.201458e+18   2412.000000  6.312572e+18   \n",
       "max    9.162041e+18      1.000000  7.609240e+18   6209.000000  8.072835e+18   \n",
       "\n",
       "                 x4            x5            x6            x7  \n",
       "count  91907.000000  7.874900e+04  9.190700e+04  91907.000000  \n",
       "mean     161.132601 -1.119024e+18 -1.341517e+18      1.260851  \n",
       "std       40.811480  6.406306e+18  5.355868e+18      1.732310  \n",
       "min        0.000000 -8.552464e+18 -9.204708e+18      0.000000  \n",
       "25%      163.000000 -6.347413e+18 -6.335165e+18      0.000000  \n",
       "50%      181.000000 -5.150561e+18 -2.297459e+18      1.000000  \n",
       "75%      182.000000  6.439227e+18  2.830195e+18      2.000000  \n",
       "max      182.000000  8.878400e+18  9.202926e+18     15.000000  "
      ]
     },
     "execution_count": 109,
     "metadata": {},
     "output_type": "execute_result"
    }
   ],
   "source": [
    "train_1.describe()  "
   ]
  },
  {
   "cell_type": "code",
   "execution_count": 110,
   "id": "demanding-faculty",
   "metadata": {},
   "outputs": [],
   "source": [
    "fs_1 = FeatureSelector(data=train_1, labels=train_1['y'])\n",
    "fs_2 = FeatureSelector(data=train_2, labels=train_2['y'])"
   ]
  },
  {
   "cell_type": "code",
   "execution_count": 111,
   "id": "single-scroll",
   "metadata": {},
   "outputs": [
    {
     "name": "stdout",
     "output_type": "stream",
     "text": [
      "16 features with greater than 0.60 missing values.\n",
      "\n",
      "16 features with greater than 0.60 missing values.\n",
      "\n"
     ]
    }
   ],
   "source": [
    "fs_1.identify_missing(missing_threshold=0.6)\n",
    "fs_2.identify_missing(missing_threshold=0.6)"
   ]
  },
  {
   "cell_type": "code",
   "execution_count": 112,
   "id": "enabling-malta",
   "metadata": {},
   "outputs": [
    {
     "name": "stdout",
     "output_type": "stream",
     "text": [
      "x10 x10\n",
      "x11 x11\n",
      "x12 x12\n",
      "x23 x23\n",
      "x24 x24\n",
      "x25 x25\n",
      "x27 x27\n",
      "x29 x29\n",
      "x30 x30\n",
      "x31 x31\n",
      "x32 x32\n",
      "x33 x33\n",
      "x37 x37\n",
      "x40 x40\n",
      "x41 x41\n",
      "x42 x42\n"
     ]
    }
   ],
   "source": [
    "missing_features_1 = fs_1.ops['missing']\n",
    "missing_features_2 = fs_2.ops['missing']\n",
    "\n",
    "missing_features = set()\n",
    "\n",
    "for f_1, f_2 in zip(missing_features_1, missing_features_2):\n",
    "    missing_features.add(f_1)\n",
    "    missing_features.add(f_2)\n",
    "    print(f_1, f_2)"
   ]
  },
  {
   "cell_type": "code",
   "execution_count": 113,
   "id": "contrary-stroke",
   "metadata": {},
   "outputs": [
    {
     "name": "stdout",
     "output_type": "stream",
     "text": [
      "17\n",
      "9\n",
      "183\n",
      "21\n",
      "577\n",
      "16\n"
     ]
    }
   ],
   "source": [
    "for column in ['x1', 'x3', 'x4', 'x5', 'x6', 'x7']:\n",
    "    print(len(train_1[column].value_counts()))"
   ]
  },
  {
   "cell_type": "markdown",
   "id": "respected-radius",
   "metadata": {},
   "source": [
    "Тогда план действий следующий: удалим `missing_features` и запустим CatBoost. Признаки `'x1', 'x3', 'x4', 'x5', 'x6', 'x7'` будем считать категориальными."
   ]
  },
  {
   "cell_type": "markdown",
   "id": "reflected-arena",
   "metadata": {},
   "source": [
    "## Оцениваем модель"
   ]
  },
  {
   "cell_type": "code",
   "execution_count": 114,
   "id": "manual-playback",
   "metadata": {},
   "outputs": [],
   "source": [
    "train_1 = train_1.drop(list(missing_features), axis=1)\n",
    "train_2 = train_2.drop(list(missing_features), axis=1)"
   ]
  },
  {
   "cell_type": "code",
   "execution_count": 115,
   "id": "multiple-share",
   "metadata": {},
   "outputs": [],
   "source": [
    "columns_res = []\n",
    "\n",
    "for column in train_1.columns[11:]:\n",
    "    train_1 = train_1.dropna(subset=[column])\n",
    "    \n",
    "    hist_columns = [column + '_min', column + '_mean', column + '_max', column + '_nan']\n",
    "    columns_res += hist_columns\n",
    "    \n",
    "    train_1[column] = train_1[column].apply(lambda x: build_features_train(x))\n",
    "    train_1[hist_columns] = pd.DataFrame(train_1[column].tolist(), index= train_1.index)\n",
    "    \n",
    "    min_1 = train_1[hist_columns[0]].mean()\n",
    "    mean_1 = train_1[hist_columns[1]].mean()\n",
    "    max_1 = train_1[hist_columns[2]].mean()\n",
    "    nan_1 = train_1[hist_columns[3]].mean()\n",
    "    \n",
    "    train_2[column] = train_2[column].apply(lambda x: build_features_test(x, min_1, mean_1, max_1, nan_1))\n",
    "    train_2[hist_columns] = pd.DataFrame(train_2[column].tolist(), index= train_2.index)"
   ]
  },
  {
   "cell_type": "code",
   "execution_count": 116,
   "id": "dependent-friday",
   "metadata": {},
   "outputs": [],
   "source": [
    "t = train_1.x8.apply(lambda x: len([i for i in x if i is not None]))\n",
    "train_1 = train_1.drop(t[t == 0].index)"
   ]
  },
  {
   "cell_type": "code",
   "execution_count": 117,
   "id": "independent-salmon",
   "metadata": {},
   "outputs": [],
   "source": [
    "hist_columns_x8 = ['x8_min', 'x8_mean', 'x8_max', 'x8_nan']\n",
    "hist_columns_x9 = ['x9_min', 'x9_mean', 'x9_max', 'x9_nan']"
   ]
  },
  {
   "cell_type": "code",
   "execution_count": 118,
   "id": "greenhouse-standard",
   "metadata": {},
   "outputs": [],
   "source": [
    "train_1.x8 = train_1.x8.apply(lambda x: build_features_train(x))"
   ]
  },
  {
   "cell_type": "code",
   "execution_count": 119,
   "id": "better-furniture",
   "metadata": {},
   "outputs": [],
   "source": [
    "train_1[hist_columns_x8] = pd.DataFrame(train_1.x8.tolist(), index= train_1.index)"
   ]
  },
  {
   "cell_type": "code",
   "execution_count": 120,
   "id": "separated-relationship",
   "metadata": {},
   "outputs": [],
   "source": [
    "min_1 = train_1.x8_min.mean()\n",
    "mean_1 = train_1.x8_mean.mean()\n",
    "max_1 = train_1.x8_max.mean()\n",
    "nan_1 = train_1.x8_nan.mean()"
   ]
  },
  {
   "cell_type": "code",
   "execution_count": 121,
   "id": "advised-mustang",
   "metadata": {},
   "outputs": [],
   "source": [
    "train_2.x8 = train_2.x8.apply(lambda x: build_features_test(x, min_1, mean_1, max_1, nan_1))\n",
    "train_2[hist_columns_x8] = pd.DataFrame(train_2.x8.tolist(), index=train_2.index)"
   ]
  },
  {
   "cell_type": "code",
   "execution_count": 122,
   "id": "victorian-census",
   "metadata": {},
   "outputs": [],
   "source": [
    "t = train_1.x9.apply(lambda x: len([i for i in x if i is not None]))\n",
    "train_1 = train_1.drop(t[t == 0].index)\n",
    "\n",
    "train_1.x9 = train_1.x9.apply(lambda x: build_features_train(x))\n",
    "train_1[hist_columns_x9] = pd.DataFrame(train_1.x9.tolist(), index=train_1.index)\n",
    "\n",
    "min_1 = train_1.x9_min.mean()\n",
    "mean_1 = train_1.x9_mean.mean()\n",
    "max_1 = train_1.x9_max.mean()\n",
    "nan_1 = train_1.x9_nan.mean()\n",
    "\n",
    "train_2.x9 = train_2.x9.apply(lambda x: build_features_test(x, min_1, mean_1, max_1, nan_1))\n",
    "train_2[hist_columns_x9] = pd.DataFrame(train_2.x9.tolist(), index=train_2.index)"
   ]
  },
  {
   "cell_type": "code",
   "execution_count": 123,
   "id": "automatic-tulsa",
   "metadata": {},
   "outputs": [],
   "source": [
    "for column in ['x1', 'x3', 'x4', 'x5', 'x6', 'x7']:\n",
    "    cur_mode = train_1[column].mode()[0]\n",
    "    \n",
    "    train_1[column] = train_1[column].astype(str)\n",
    "    train_2[column] = train_2[column].astype(str)"
   ]
  },
  {
   "cell_type": "code",
   "execution_count": 124,
   "id": "controlled-charter",
   "metadata": {},
   "outputs": [],
   "source": [
    "labels_1 = train_1['y']\n",
    "train_1 = train_1.drop(columns = ['y'])\n",
    "\n",
    "labels_2 = train_2['y']\n",
    "train_2 = train_2.drop(columns = ['y'])"
   ]
  },
  {
   "cell_type": "code",
   "execution_count": 125,
   "id": "lesser-plane",
   "metadata": {},
   "outputs": [],
   "source": [
    "columns_used = ['x1', 'x3', 'x4', 'x5', 'x6', 'x7', 'x2'] + columns_res + hist_columns_x8 + hist_columns_x9\n",
    "train_data = train_1[columns_used]\n",
    "eval_data = train_2[columns_used]\n",
    "\n",
    "\n",
    "cat_features = [0, 1, 2, 3, 4, 5]\n",
    "\n",
    "\n",
    "train_label = labels_1\n",
    "eval_label = labels_2\n",
    "\n",
    "\n",
    "train_dataset = Pool(data=train_data,\n",
    "                     label=train_label,\n",
    "                     cat_features=cat_features)\n",
    "\n",
    "eval_dataset = Pool(data=eval_data,\n",
    "                    label=eval_label,\n",
    "                    cat_features=cat_features)\n",
    "\n",
    "# Initialize CatBoostClassifier\n",
    "model = CatBoostClassifier(iterations=100,\n",
    "                           learning_rate=1,\n",
    "                           depth=3,\n",
    "                           loss_function='MultiClass', \n",
    "                           eval_metric='AUC')\n",
    "# Fit model\n",
    "model.fit(train_dataset, verbose=False)\n",
    "# Get predicted classes\n",
    "preds_class = model.predict(eval_dataset)\n",
    "# Get predicted probabilities for each class\n",
    "preds_proba = model.predict_proba(eval_dataset)"
   ]
  },
  {
   "cell_type": "code",
   "execution_count": 126,
   "id": "designing-occasion",
   "metadata": {},
   "outputs": [
    {
     "data": {
      "text/plain": [
       "0.8089464285287389"
      ]
     },
     "execution_count": 126,
     "metadata": {},
     "output_type": "execute_result"
    }
   ],
   "source": [
    "roc_auc_score(labels_2, preds_proba[:, 1])"
   ]
  },
  {
   "cell_type": "markdown",
   "id": "terminal-sleeping",
   "metadata": {},
   "source": [
    "## Итоговое предсказание для теста"
   ]
  },
  {
   "cell_type": "code",
   "execution_count": 161,
   "id": "portuguese-cache",
   "metadata": {},
   "outputs": [],
   "source": [
    "train_1, train_2, test = get_data()"
   ]
  },
  {
   "cell_type": "code",
   "execution_count": 163,
   "id": "powered-tribe",
   "metadata": {},
   "outputs": [
    {
     "name": "stdout",
     "output_type": "stream",
     "text": [
      "Мы удалили 38 строк\n",
      "Минимальный год: 2001, максимальный год: 3201\n",
      "Отсечем года, которые меньше 1990, больше 2020\n",
      "Минимальная и максимальная даты: 01.01.2001, 31.12.2016\n",
      "Мы удалили 45 строк\n",
      "Минимальный год: 1899, максимальный год: 3201\n",
      "Отсечем года, которые меньше 1990, больше 2020\n",
      "Минимальная и максимальная даты: 01.01.2001, 31.12.2016\n"
     ]
    }
   ],
   "source": [
    "train_1 = transform_date(train_1)\n",
    "train_2 = transform_date(train_2)"
   ]
  },
  {
   "cell_type": "code",
   "execution_count": 164,
   "id": "creative-happening",
   "metadata": {},
   "outputs": [],
   "source": [
    "train_1.x2 = pd.to_datetime(train_1.x2)\n",
    "train_2.x2 = pd.to_datetime(train_2.x2)\n",
    "\n",
    "date_time = train_1.x2.mode()[0].strftime(\"%m-%d-%Y\")\n",
    "\n",
    "random_date = pd.to_datetime('2018-01-01')\n",
    "train_1.x2 = train_1.x2.apply(lambda x: (random_date - x).days)\n",
    "train_2.x2 = train_2.x2.apply(lambda x: (random_date - x).days)"
   ]
  },
  {
   "cell_type": "code",
   "execution_count": 165,
   "id": "coordinated-paradise",
   "metadata": {},
   "outputs": [
    {
     "data": {
      "text/html": [
       "<div>\n",
       "<style scoped>\n",
       "    .dataframe tbody tr th:only-of-type {\n",
       "        vertical-align: middle;\n",
       "    }\n",
       "\n",
       "    .dataframe tbody tr th {\n",
       "        vertical-align: top;\n",
       "    }\n",
       "\n",
       "    .dataframe thead th {\n",
       "        text-align: right;\n",
       "    }\n",
       "</style>\n",
       "<table border=\"1\" class=\"dataframe\">\n",
       "  <thead>\n",
       "    <tr style=\"text-align: right;\">\n",
       "      <th></th>\n",
       "      <th>id</th>\n",
       "      <th>x1</th>\n",
       "      <th>x2</th>\n",
       "      <th>x3</th>\n",
       "      <th>x4</th>\n",
       "      <th>x5</th>\n",
       "      <th>x6</th>\n",
       "      <th>x7</th>\n",
       "      <th>x8</th>\n",
       "      <th>x9</th>\n",
       "      <th>...</th>\n",
       "      <th>x33</th>\n",
       "      <th>x34</th>\n",
       "      <th>x35</th>\n",
       "      <th>x36</th>\n",
       "      <th>x37</th>\n",
       "      <th>x38</th>\n",
       "      <th>x39</th>\n",
       "      <th>x40</th>\n",
       "      <th>x41</th>\n",
       "      <th>x42</th>\n",
       "    </tr>\n",
       "  </thead>\n",
       "  <tbody>\n",
       "    <tr>\n",
       "      <th>0</th>\n",
       "      <td>-9196902500682081904</td>\n",
       "      <td>-2201458060675810556</td>\n",
       "      <td>2008-09-01 00:00:00</td>\n",
       "      <td>6312572492787112517</td>\n",
       "      <td>183</td>\n",
       "      <td>-6.347413e+18</td>\n",
       "      <td>2066976859146697559</td>\n",
       "      <td>0</td>\n",
       "      <td>[431.63 188.56999999999999 430.73000000000002 ...</td>\n",
       "      <td>[431.63 188.56999999999999 430.73000000000002 ...</td>\n",
       "      <td>...</td>\n",
       "      <td>[nan, nan, nan, nan, nan, nan]</td>\n",
       "      <td>[1.0, nan, nan, 1.0, nan, 6.0]</td>\n",
       "      <td>[67.64, 67.64, 67.64, 67.64, 67.64, 67.64]</td>\n",
       "      <td>[224.79, 224.79, 224.79, 224.79, 224.79, 224.79]</td>\n",
       "      <td>[nan, nan, nan, nan, nan, nan]</td>\n",
       "      <td>[nan, nan, nan, nan, nan, nan]</td>\n",
       "      <td>[80.46, 80.46, 80.46, 80.46, 80.46, 80.46]</td>\n",
       "      <td>[nan, nan, nan, nan, nan, nan]</td>\n",
       "      <td>[nan, nan, nan, nan, nan, nan]</td>\n",
       "      <td>[nan, nan, nan, nan, nan, nan]</td>\n",
       "    </tr>\n",
       "    <tr>\n",
       "      <th>1</th>\n",
       "      <td>-9196902500681081889</td>\n",
       "      <td>-2201458060675810556</td>\n",
       "      <td>2008-09-01 00:00:00</td>\n",
       "      <td>6312572492787112517</td>\n",
       "      <td>183</td>\n",
       "      <td>3.052557e+18</td>\n",
       "      <td>-8367157107954005236</td>\n",
       "      <td>0</td>\n",
       "      <td>[287.63 8051.1199999999999 5301.6700000000001 ...</td>\n",
       "      <td>[287.63 8051.1199999999999 5301.6700000000001 ...</td>\n",
       "      <td>...</td>\n",
       "      <td>[nan, 0.0, nan, nan, nan, nan]</td>\n",
       "      <td>[nan, nan, nan, 2.0, 1.0, nan]</td>\n",
       "      <td>[67.64, 67.64, 67.64, 67.64, 67.64, 67.64]</td>\n",
       "      <td>[199.65, 199.65, 199.65, 199.65, 199.65, 199.65]</td>\n",
       "      <td>[nan, nan, nan, nan, nan, nan]</td>\n",
       "      <td>[nan, nan, nan, nan, nan, nan]</td>\n",
       "      <td>[80.46, 80.46, 80.46, 80.46, 80.46, 80.46]</td>\n",
       "      <td>[nan, nan, nan, nan, nan, nan]</td>\n",
       "      <td>[nan, nan, nan, nan, nan, nan]</td>\n",
       "      <td>[nan, nan, nan, nan, nan, nan]</td>\n",
       "    </tr>\n",
       "    <tr>\n",
       "      <th>2</th>\n",
       "      <td>-9196902500679081891</td>\n",
       "      <td>-2201458060675810556</td>\n",
       "      <td>2011-03-01 00:00:00</td>\n",
       "      <td>6312572492787112517</td>\n",
       "      <td>137</td>\n",
       "      <td>-8.465179e+18</td>\n",
       "      <td>2066976859146697559</td>\n",
       "      <td>2</td>\n",
       "      <td>[45.520000000000003 728.21000000000004 2548.57...</td>\n",
       "      <td>[45.520000000000003 728.21000000000004 2548.57...</td>\n",
       "      <td>...</td>\n",
       "      <td>[nan, nan, nan, nan, nan, nan]</td>\n",
       "      <td>[nan, nan, nan, nan, 4.0, nan]</td>\n",
       "      <td>[75.18, 67.64, 75.18, 75.18, 75.18, 75.18]</td>\n",
       "      <td>[195.46, 61.35, 195.46, 222.28, 222.28, 222.28]</td>\n",
       "      <td>[107.87, 107.87, 107.87, 107.87, 107.87, 107.87]</td>\n",
       "      <td>[77.19, 77.19, 77.19, 77.19, 77.19, 77.19]</td>\n",
       "      <td>[88.01, 80.46, 88.01, 88.01, 88.01, 88.01]</td>\n",
       "      <td>[nan, nan, nan, nan, nan, nan]</td>\n",
       "      <td>[nan, nan, nan, nan, nan, nan]</td>\n",
       "      <td>[nan, nan, nan, nan, nan, nan]</td>\n",
       "    </tr>\n",
       "    <tr>\n",
       "      <th>3</th>\n",
       "      <td>-9196902500679081889</td>\n",
       "      <td>-2201458060675810556</td>\n",
       "      <td>2008-09-01 00:00:00</td>\n",
       "      <td>6312572492787112517</td>\n",
       "      <td>183</td>\n",
       "      <td>3.052557e+18</td>\n",
       "      <td>-8367157107954005236</td>\n",
       "      <td>0</td>\n",
       "      <td>[0.01 0.01 0.0 0.01 0.01 0.01 0.0 0.01 0.01 0....</td>\n",
       "      <td>[0.01 0.01 0.0 0.01 0.01 0.01 0.0 0.01 0.01 0....</td>\n",
       "      <td>...</td>\n",
       "      <td>[nan, nan, nan, nan, nan, nan]</td>\n",
       "      <td>[1.0, 1.0, nan, nan, 2.0, 1.0]</td>\n",
       "      <td>[67.64, 67.64, 67.64, 67.64, 67.64, 67.64]</td>\n",
       "      <td>[199.65, 177.34, 199.65, 199.65, 199.65, 199.65]</td>\n",
       "      <td>[nan, nan, nan, nan, nan, nan]</td>\n",
       "      <td>[nan, nan, nan, nan, nan, nan]</td>\n",
       "      <td>[80.46, 80.46, 80.46, 80.46, 80.46, 80.46]</td>\n",
       "      <td>[nan, nan, nan, nan, nan, nan]</td>\n",
       "      <td>[nan, nan, nan, nan, nan, nan]</td>\n",
       "      <td>[nan, nan, nan, nan, nan, nan]</td>\n",
       "    </tr>\n",
       "    <tr>\n",
       "      <th>4</th>\n",
       "      <td>-9196902500677081902</td>\n",
       "      <td>-2201458060675810556</td>\n",
       "      <td>2008-09-01 00:00:00</td>\n",
       "      <td>6312572492787112517</td>\n",
       "      <td>183</td>\n",
       "      <td>-8.465179e+18</td>\n",
       "      <td>-4936635693953926999</td>\n",
       "      <td>0</td>\n",
       "      <td>[9.0600000000000005 88.730000000000004 33.8100...</td>\n",
       "      <td>[9.0600000000000005 88.730000000000004 33.8100...</td>\n",
       "      <td>...</td>\n",
       "      <td>[nan, nan, nan, nan, nan, nan]</td>\n",
       "      <td>[2.0, nan, nan, 1.0, nan, nan]</td>\n",
       "      <td>[67.64, 67.64, 67.64, 67.64, 67.64, 67.64]</td>\n",
       "      <td>[199.65, 199.65, 199.65, 199.65, 199.65, 199.65]</td>\n",
       "      <td>[nan, nan, nan, nan, nan, nan]</td>\n",
       "      <td>[77.19, 77.19, 77.19, 77.19, 77.19, 77.19]</td>\n",
       "      <td>[80.46, 80.46, 80.46, 80.46, 80.46, 80.46]</td>\n",
       "      <td>[nan, nan, nan, nan, nan, nan]</td>\n",
       "      <td>[nan, nan, nan, nan, nan, nan]</td>\n",
       "      <td>[nan, nan, nan, nan, nan, nan]</td>\n",
       "    </tr>\n",
       "  </tbody>\n",
       "</table>\n",
       "<p>5 rows × 43 columns</p>\n",
       "</div>"
      ],
      "text/plain": [
       "                    id                   x1                   x2  \\\n",
       "0 -9196902500682081904 -2201458060675810556  2008-09-01 00:00:00   \n",
       "1 -9196902500681081889 -2201458060675810556  2008-09-01 00:00:00   \n",
       "2 -9196902500679081891 -2201458060675810556  2011-03-01 00:00:00   \n",
       "3 -9196902500679081889 -2201458060675810556  2008-09-01 00:00:00   \n",
       "4 -9196902500677081902 -2201458060675810556  2008-09-01 00:00:00   \n",
       "\n",
       "                    x3   x4            x5                   x6  x7  \\\n",
       "0  6312572492787112517  183 -6.347413e+18  2066976859146697559   0   \n",
       "1  6312572492787112517  183  3.052557e+18 -8367157107954005236   0   \n",
       "2  6312572492787112517  137 -8.465179e+18  2066976859146697559   2   \n",
       "3  6312572492787112517  183  3.052557e+18 -8367157107954005236   0   \n",
       "4  6312572492787112517  183 -8.465179e+18 -4936635693953926999   0   \n",
       "\n",
       "                                                  x8  \\\n",
       "0  [431.63 188.56999999999999 430.73000000000002 ...   \n",
       "1  [287.63 8051.1199999999999 5301.6700000000001 ...   \n",
       "2  [45.520000000000003 728.21000000000004 2548.57...   \n",
       "3  [0.01 0.01 0.0 0.01 0.01 0.01 0.0 0.01 0.01 0....   \n",
       "4  [9.0600000000000005 88.730000000000004 33.8100...   \n",
       "\n",
       "                                                  x9  ...  \\\n",
       "0  [431.63 188.56999999999999 430.73000000000002 ...  ...   \n",
       "1  [287.63 8051.1199999999999 5301.6700000000001 ...  ...   \n",
       "2  [45.520000000000003 728.21000000000004 2548.57...  ...   \n",
       "3  [0.01 0.01 0.0 0.01 0.01 0.01 0.0 0.01 0.01 0....  ...   \n",
       "4  [9.0600000000000005 88.730000000000004 33.8100...  ...   \n",
       "\n",
       "                              x33                             x34  \\\n",
       "0  [nan, nan, nan, nan, nan, nan]  [1.0, nan, nan, 1.0, nan, 6.0]   \n",
       "1  [nan, 0.0, nan, nan, nan, nan]  [nan, nan, nan, 2.0, 1.0, nan]   \n",
       "2  [nan, nan, nan, nan, nan, nan]  [nan, nan, nan, nan, 4.0, nan]   \n",
       "3  [nan, nan, nan, nan, nan, nan]  [1.0, 1.0, nan, nan, 2.0, 1.0]   \n",
       "4  [nan, nan, nan, nan, nan, nan]  [2.0, nan, nan, 1.0, nan, nan]   \n",
       "\n",
       "                                          x35  \\\n",
       "0  [67.64, 67.64, 67.64, 67.64, 67.64, 67.64]   \n",
       "1  [67.64, 67.64, 67.64, 67.64, 67.64, 67.64]   \n",
       "2  [75.18, 67.64, 75.18, 75.18, 75.18, 75.18]   \n",
       "3  [67.64, 67.64, 67.64, 67.64, 67.64, 67.64]   \n",
       "4  [67.64, 67.64, 67.64, 67.64, 67.64, 67.64]   \n",
       "\n",
       "                                                x36  \\\n",
       "0  [224.79, 224.79, 224.79, 224.79, 224.79, 224.79]   \n",
       "1  [199.65, 199.65, 199.65, 199.65, 199.65, 199.65]   \n",
       "2   [195.46, 61.35, 195.46, 222.28, 222.28, 222.28]   \n",
       "3  [199.65, 177.34, 199.65, 199.65, 199.65, 199.65]   \n",
       "4  [199.65, 199.65, 199.65, 199.65, 199.65, 199.65]   \n",
       "\n",
       "                                                x37  \\\n",
       "0                    [nan, nan, nan, nan, nan, nan]   \n",
       "1                    [nan, nan, nan, nan, nan, nan]   \n",
       "2  [107.87, 107.87, 107.87, 107.87, 107.87, 107.87]   \n",
       "3                    [nan, nan, nan, nan, nan, nan]   \n",
       "4                    [nan, nan, nan, nan, nan, nan]   \n",
       "\n",
       "                                          x38  \\\n",
       "0              [nan, nan, nan, nan, nan, nan]   \n",
       "1              [nan, nan, nan, nan, nan, nan]   \n",
       "2  [77.19, 77.19, 77.19, 77.19, 77.19, 77.19]   \n",
       "3              [nan, nan, nan, nan, nan, nan]   \n",
       "4  [77.19, 77.19, 77.19, 77.19, 77.19, 77.19]   \n",
       "\n",
       "                                          x39                             x40  \\\n",
       "0  [80.46, 80.46, 80.46, 80.46, 80.46, 80.46]  [nan, nan, nan, nan, nan, nan]   \n",
       "1  [80.46, 80.46, 80.46, 80.46, 80.46, 80.46]  [nan, nan, nan, nan, nan, nan]   \n",
       "2  [88.01, 80.46, 88.01, 88.01, 88.01, 88.01]  [nan, nan, nan, nan, nan, nan]   \n",
       "3  [80.46, 80.46, 80.46, 80.46, 80.46, 80.46]  [nan, nan, nan, nan, nan, nan]   \n",
       "4  [80.46, 80.46, 80.46, 80.46, 80.46, 80.46]  [nan, nan, nan, nan, nan, nan]   \n",
       "\n",
       "                              x41                             x42  \n",
       "0  [nan, nan, nan, nan, nan, nan]  [nan, nan, nan, nan, nan, nan]  \n",
       "1  [nan, nan, nan, nan, nan, nan]  [nan, nan, nan, nan, nan, nan]  \n",
       "2  [nan, nan, nan, nan, nan, nan]  [nan, nan, nan, nan, nan, nan]  \n",
       "3  [nan, nan, nan, nan, nan, nan]  [nan, nan, nan, nan, nan, nan]  \n",
       "4  [nan, nan, nan, nan, nan, nan]  [nan, nan, nan, nan, nan, nan]  \n",
       "\n",
       "[5 rows x 43 columns]"
      ]
     },
     "execution_count": 165,
     "metadata": {},
     "output_type": "execute_result"
    }
   ],
   "source": [
    "test.head()"
   ]
  },
  {
   "cell_type": "code",
   "execution_count": 166,
   "id": "sound-roberts",
   "metadata": {},
   "outputs": [],
   "source": [
    "test.x2 = test.x2.fillna(date_time)\n",
    "mask = test['x2'].apply(lambda x: max(map(int, x[:10].split('-'))))\n",
    "test.loc[2020 < mask, 'x2'] = date_time\n",
    "test.loc[mask < 2000, 'x2'] = date_time\n",
    "    \n",
    "test.x2 = pd.to_datetime(test.x2)\n",
    "\n",
    "test.x2 = test.x2.apply(lambda x: (random_date - x).days)"
   ]
  },
  {
   "cell_type": "code",
   "execution_count": 167,
   "id": "subsequent-center",
   "metadata": {},
   "outputs": [],
   "source": [
    "transform_columns_10_42(train_1)\n",
    "transform_columns_10_42(train_2)\n",
    "transform_columns_10_42(test)"
   ]
  },
  {
   "cell_type": "code",
   "execution_count": 168,
   "id": "removable-europe",
   "metadata": {},
   "outputs": [],
   "source": [
    "train_1 = train_1.drop(list(missing_features), axis=1)\n",
    "train_2 = train_2.drop(list(missing_features), axis=1)\n",
    "test = test.drop(list(missing_features), axis=1)"
   ]
  },
  {
   "cell_type": "code",
   "execution_count": 169,
   "id": "painted-designer",
   "metadata": {},
   "outputs": [],
   "source": [
    "columns_res = []\n",
    "\n",
    "for column in train_1.columns[11:28]:\n",
    "    train_1 = train_1.dropna(subset=[column])\n",
    "    train_2 = train_2.dropna(subset=[column])\n",
    "    \n",
    "    hist_columns = [column + '_min', column + '_mean', column + '_max', column + '_nan']\n",
    "    columns_res += hist_columns\n",
    "    \n",
    "    train_1[column] = train_1[column].apply(lambda x: build_features_train(x))\n",
    "    train_1[hist_columns] = pd.DataFrame(train_1[column].tolist(), index=train_1.index)\n",
    "    \n",
    "    min_1 = train_1[hist_columns[0]].mean()\n",
    "    mean_1 = train_1[hist_columns[1]].mean()\n",
    "    max_1 = train_1[hist_columns[2]].mean()\n",
    "    nan_1 = train_1[hist_columns[3]].mean()\n",
    "    \n",
    "    train_2[column] = train_2[column].apply(lambda x: build_features_train(x))\n",
    "    train_2[hist_columns] = pd.DataFrame(train_2[column].tolist(), index=train_2.index)\n",
    "    \n",
    "    test[column] = test[column].apply(lambda x: build_features_test(x, min_1, mean_1, max_1, nan_1))\n",
    "    test[hist_columns] = pd.DataFrame(test[column].tolist(), index=test.index)"
   ]
  },
  {
   "cell_type": "code",
   "execution_count": 170,
   "id": "linear-front",
   "metadata": {},
   "outputs": [],
   "source": [
    "transform_columns_8_9(train_1)\n",
    "t = train_1.x8.apply(lambda x: len([i for i in x if i is not None]))\n",
    "train_1 = train_1.drop(t[t == 0].index)\n",
    "\n",
    "train_1.x8 = train_1.x8.apply(lambda x: build_features_train(x))\n",
    "train_1[hist_columns_x8] = pd.DataFrame(train_1.x8.tolist(), index= train_1.index)"
   ]
  },
  {
   "cell_type": "code",
   "execution_count": 171,
   "id": "proof-relief",
   "metadata": {},
   "outputs": [],
   "source": [
    "min_1 = train_1.x8_min.mean()\n",
    "mean_1 = train_1.x8_mean.mean()\n",
    "max_1 = train_1.x8_max.mean()\n",
    "nan_1 = train_1.x8_nan.mean()"
   ]
  },
  {
   "cell_type": "code",
   "execution_count": 172,
   "id": "wicked-kidney",
   "metadata": {},
   "outputs": [],
   "source": [
    "transform_columns_8_9(train_2)\n",
    "t = train_2.x8.apply(lambda x: len([i for i in x if i is not None]))\n",
    "train_2 = train_2.drop(t[t == 0].index)\n",
    "\n",
    "train_2.x8 = train_2.x8.apply(lambda x: build_features_train(x))\n",
    "train_2[hist_columns_x8] = pd.DataFrame(train_2.x8.tolist(), index= train_2.index)"
   ]
  },
  {
   "cell_type": "code",
   "execution_count": 173,
   "id": "contemporary-development",
   "metadata": {},
   "outputs": [],
   "source": [
    "transform_columns_8_9(test)"
   ]
  },
  {
   "cell_type": "code",
   "execution_count": 174,
   "id": "collectible-liechtenstein",
   "metadata": {},
   "outputs": [],
   "source": [
    "test.x8 = test.x8.apply(lambda x: build_features_test(x, min_1, mean_1, max_1, nan_1))\n",
    "test[hist_columns_x8] = pd.DataFrame(test.x8.tolist(), index= test.index)"
   ]
  },
  {
   "cell_type": "code",
   "execution_count": 175,
   "id": "subjective-glenn",
   "metadata": {},
   "outputs": [],
   "source": [
    "t = train_1.x9.apply(lambda x: len([i for i in x if i is not None]))\n",
    "train_1 = train_1.drop(t[t == 0].index)\n",
    "train_1.x9 = train_1.x9.apply(lambda x: build_features_train(x))\n",
    "train_1[hist_columns_x9] = pd.DataFrame(train_1.x9.tolist(), index= train_1.index)\n",
    "\n",
    "min_1 = train_1.x9_min.mean()\n",
    "mean_1 = train_1.x9_mean.mean()\n",
    "max_1 = train_1.x9_max.mean()\n",
    "nan_1 = train_1.x9_nan.mean()"
   ]
  },
  {
   "cell_type": "code",
   "execution_count": 176,
   "id": "central-quantity",
   "metadata": {},
   "outputs": [],
   "source": [
    "t = train_2.x9.apply(lambda x: len([i for i in x if i is not None]))\n",
    "train_2 = train_2.drop(t[t == 0].index)\n",
    "train_2.x9 = train_2.x9.apply(lambda x: build_features_train(x))\n",
    "train_2[hist_columns_x9] = pd.DataFrame(train_2.x9.tolist(), index= train_2.index)"
   ]
  },
  {
   "cell_type": "code",
   "execution_count": 177,
   "id": "peripheral-manchester",
   "metadata": {},
   "outputs": [],
   "source": [
    "test.x9 = test.x9.apply(lambda x: build_features_test(x, min_1, mean_1, max_1, nan_1))\n",
    "test[hist_columns_x9] = pd.DataFrame(test.x9.tolist(), index=test.index)"
   ]
  },
  {
   "cell_type": "code",
   "execution_count": 178,
   "id": "comparable-specification",
   "metadata": {},
   "outputs": [],
   "source": [
    "for column in ['x1', 'x3', 'x4', 'x5', 'x6', 'x7']:\n",
    "    train_1[column] = train_1[column].astype(str)\n",
    "    train_2[column] = train_2[column].astype(str)\n",
    "    test[column] = test[column].astype(str)"
   ]
  },
  {
   "cell_type": "code",
   "execution_count": 179,
   "id": "genuine-crime",
   "metadata": {},
   "outputs": [],
   "source": [
    "labels_1 = train_1['y']\n",
    "train_1 = train_1.drop(columns = ['y'])\n",
    "\n",
    "labels_2 = train_2['y']\n",
    "train_2 = train_2.drop(columns = ['y'])"
   ]
  },
  {
   "cell_type": "code",
   "execution_count": 180,
   "id": "intensive-choice",
   "metadata": {},
   "outputs": [],
   "source": [
    "columns_used = ['x1', 'x3', 'x4', 'x5', 'x6', 'x7', 'x2'] + columns_res + hist_columns_x8 + hist_columns_x9\n",
    "\n",
    "train_data = train_1[columns_used]\n",
    "eval_data = train_2[columns_used]\n",
    "test_data = test[columns_used]\n",
    "\n",
    "cat_features = [0, 1, 2, 3, 4, 5]\n",
    "\n",
    "train_label = labels_1\n",
    "eval_label = labels_2\n",
    "\n",
    "train_dataset = Pool(data=train_data,\n",
    "                     label=train_label,\n",
    "                     cat_features=cat_features)\n",
    "\n",
    "eval_dataset = Pool(data=eval_data,\n",
    "                    label=eval_label,\n",
    "                    cat_features=cat_features)\n",
    "\n",
    "test_dataset = Pool(data=test_data,\n",
    "                    cat_features=cat_features)\n",
    "\n",
    "# Initialize CatBoostClassifier\n",
    "model = CatBoostClassifier(iterations=100,\n",
    "                           learning_rate=1,\n",
    "                           depth=3,\n",
    "                           loss_function='MultiClass', \n",
    "                           eval_metric='AUC')\n",
    "\n",
    "model.fit(train_dataset, verbose=False)\n",
    "\n",
    "preds_proba = model.predict_proba(test_dataset)"
   ]
  },
  {
   "cell_type": "code",
   "execution_count": 181,
   "id": "israeli-hungarian",
   "metadata": {},
   "outputs": [
    {
     "data": {
      "text/plain": [
       "(23386, 2)"
      ]
     },
     "execution_count": 181,
     "metadata": {},
     "output_type": "execute_result"
    }
   ],
   "source": [
    "preds_proba.shape"
   ]
  },
  {
   "cell_type": "code",
   "execution_count": 182,
   "id": "opened-mailman",
   "metadata": {},
   "outputs": [
    {
     "data": {
      "text/html": [
       "<div>\n",
       "<style scoped>\n",
       "    .dataframe tbody tr th:only-of-type {\n",
       "        vertical-align: middle;\n",
       "    }\n",
       "\n",
       "    .dataframe tbody tr th {\n",
       "        vertical-align: top;\n",
       "    }\n",
       "\n",
       "    .dataframe thead th {\n",
       "        text-align: right;\n",
       "    }\n",
       "</style>\n",
       "<table border=\"1\" class=\"dataframe\">\n",
       "  <thead>\n",
       "    <tr style=\"text-align: right;\">\n",
       "      <th></th>\n",
       "      <th>id</th>\n",
       "      <th>result</th>\n",
       "    </tr>\n",
       "  </thead>\n",
       "  <tbody>\n",
       "    <tr>\n",
       "      <th>0</th>\n",
       "      <td>-9196902500682081904</td>\n",
       "      <td>0.013634</td>\n",
       "    </tr>\n",
       "    <tr>\n",
       "      <th>1</th>\n",
       "      <td>-9196902500681081889</td>\n",
       "      <td>0.014162</td>\n",
       "    </tr>\n",
       "    <tr>\n",
       "      <th>2</th>\n",
       "      <td>-9196902500679081891</td>\n",
       "      <td>0.002414</td>\n",
       "    </tr>\n",
       "    <tr>\n",
       "      <th>3</th>\n",
       "      <td>-9196902500679081889</td>\n",
       "      <td>0.011602</td>\n",
       "    </tr>\n",
       "    <tr>\n",
       "      <th>4</th>\n",
       "      <td>-9196902500677081902</td>\n",
       "      <td>0.002633</td>\n",
       "    </tr>\n",
       "  </tbody>\n",
       "</table>\n",
       "</div>"
      ],
      "text/plain": [
       "                    id    result\n",
       "0 -9196902500682081904  0.013634\n",
       "1 -9196902500681081889  0.014162\n",
       "2 -9196902500679081891  0.002414\n",
       "3 -9196902500679081889  0.011602\n",
       "4 -9196902500677081902  0.002633"
      ]
     },
     "execution_count": 182,
     "metadata": {},
     "output_type": "execute_result"
    }
   ],
   "source": [
    "answer = pd.DataFrame(\n",
    "    {'id': [i for i in test.id],\n",
    "     'result': [i for i in preds_proba[:, 1]],\n",
    "    })\n",
    "\n",
    "answer.set_index('id')\n",
    "\n",
    "answer.head()"
   ]
  },
  {
   "cell_type": "code",
   "execution_count": 183,
   "id": "obvious-earthquake",
   "metadata": {},
   "outputs": [],
   "source": [
    "answer.to_csv('submission_karasov.csv', sep=';', index=False)"
   ]
  }
 ],
 "metadata": {
  "kernelspec": {
   "display_name": "Python 3",
   "language": "python",
   "name": "python3"
  },
  "language_info": {
   "codemirror_mode": {
    "name": "ipython",
    "version": 3
   },
   "file_extension": ".py",
   "mimetype": "text/x-python",
   "name": "python",
   "nbconvert_exporter": "python",
   "pygments_lexer": "ipython3",
   "version": "3.7.9"
  }
 },
 "nbformat": 4,
 "nbformat_minor": 5
}
